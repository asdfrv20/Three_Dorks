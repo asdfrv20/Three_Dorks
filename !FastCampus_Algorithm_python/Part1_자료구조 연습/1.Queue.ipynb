{
 "cells": [
  {
   "cell_type": "markdown",
   "id": "619b6777",
   "metadata": {},
   "source": [
    "# Queeu 복습"
   ]
  },
  {
   "cell_type": "markdown",
   "id": "577aa025",
   "metadata": {},
   "source": [
    "## 일반적인 Queue(FIFO 정책)"
   ]
  },
  {
   "cell_type": "code",
   "execution_count": 8,
   "id": "d447aa6d",
   "metadata": {
    "ExecuteTime": {
     "end_time": "2021-10-15T10:24:35.799560Z",
     "start_time": "2021-10-15T10:24:35.795490Z"
    }
   },
   "outputs": [],
   "source": [
    "queue = []\n",
    "\n",
    "def enqueue(data):\n",
    "    queue.append(data)\n",
    "\n",
    "def dequeue():\n",
    "    data = queue[0]\n",
    "    del queue[0]\n",
    "    "
   ]
  },
  {
   "cell_type": "code",
   "execution_count": 9,
   "id": "d3580cfe",
   "metadata": {
    "ExecuteTime": {
     "end_time": "2021-10-15T10:24:36.027298Z",
     "start_time": "2021-10-15T10:24:36.009289Z"
    }
   },
   "outputs": [
    {
     "name": "stdout",
     "output_type": "stream",
     "text": [
      "[1]\n",
      "[1, 3]\n",
      "[1, 3, 5]\n",
      "[1, 3, 5, 7]\n",
      "[1, 3, 5, 7, 9]\n"
     ]
    }
   ],
   "source": [
    "for i in range(1,10,2):\n",
    "    enqueue(i)\n",
    "    print(queue)"
   ]
  },
  {
   "cell_type": "code",
   "execution_count": 10,
   "id": "15a24691",
   "metadata": {
    "ExecuteTime": {
     "end_time": "2021-10-15T10:25:05.173963Z",
     "start_time": "2021-10-15T10:25:05.165930Z"
    }
   },
   "outputs": [
    {
     "name": "stdout",
     "output_type": "stream",
     "text": [
      "[3, 5, 7, 9]\n",
      "[5, 7, 9]\n",
      "[7, 9]\n",
      "[9]\n",
      "[]\n"
     ]
    }
   ],
   "source": [
    "for i in range(len(queue)):\n",
    "    dequeue()\n",
    "    print(queue)\n"
   ]
  },
  {
   "cell_type": "markdown",
   "id": "d49256bb",
   "metadata": {},
   "source": [
    "## 2. LIFO 정채의 Queue"
   ]
  },
  {
   "cell_type": "code",
   "execution_count": null,
   "id": "193cdc19",
   "metadata": {},
   "outputs": [],
   "source": []
  },
  {
   "cell_type": "code",
   "execution_count": null,
   "id": "76c349a5",
   "metadata": {},
   "outputs": [],
   "source": []
  },
  {
   "cell_type": "code",
   "execution_count": null,
   "id": "3862fe13",
   "metadata": {},
   "outputs": [],
   "source": []
  },
  {
   "cell_type": "code",
   "execution_count": null,
   "id": "53a75ed1",
   "metadata": {},
   "outputs": [],
   "source": []
  },
  {
   "cell_type": "code",
   "execution_count": null,
   "id": "825917ab",
   "metadata": {},
   "outputs": [],
   "source": []
  }
 ],
 "metadata": {
  "hide_input": false,
  "kernelspec": {
   "display_name": "Python 3",
   "language": "python",
   "name": "python3"
  },
  "language_info": {
   "codemirror_mode": {
    "name": "ipython",
    "version": 3
   },
   "file_extension": ".py",
   "mimetype": "text/x-python",
   "name": "python",
   "nbconvert_exporter": "python",
   "pygments_lexer": "ipython3",
   "version": "3.8.5"
  },
  "toc": {
   "base_numbering": 1,
   "nav_menu": {},
   "number_sections": true,
   "sideBar": true,
   "skip_h1_title": false,
   "title_cell": "Table of Contents",
   "title_sidebar": "Contents",
   "toc_cell": false,
   "toc_position": {},
   "toc_section_display": true,
   "toc_window_display": false
  },
  "varInspector": {
   "cols": {
    "lenName": 16,
    "lenType": 16,
    "lenVar": 40
   },
   "kernels_config": {
    "python": {
     "delete_cmd_postfix": "",
     "delete_cmd_prefix": "del ",
     "library": "var_list.py",
     "varRefreshCmd": "print(var_dic_list())"
    },
    "r": {
     "delete_cmd_postfix": ") ",
     "delete_cmd_prefix": "rm(",
     "library": "var_list.r",
     "varRefreshCmd": "cat(var_dic_list()) "
    }
   },
   "types_to_exclude": [
    "module",
    "function",
    "builtin_function_or_method",
    "instance",
    "_Feature"
   ],
   "window_display": false
  }
 },
 "nbformat": 4,
 "nbformat_minor": 5
}
