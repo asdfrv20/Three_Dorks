{
 "cells": [
  {
   "cell_type": "markdown",
   "id": "119f6020",
   "metadata": {},
   "source": [
    "# Linked List 복습"
   ]
  },
  {
   "cell_type": "markdown",
   "id": "dff060e1",
   "metadata": {},
   "source": [
    "## 1.node 와 add 만들기"
   ]
  },
  {
   "cell_type": "code",
   "execution_count": 9,
   "id": "2e44b8b8",
   "metadata": {
    "ExecuteTime": {
     "end_time": "2021-10-15T10:36:00.708716Z",
     "start_time": "2021-10-15T10:36:00.697483Z"
    }
   },
   "outputs": [],
   "source": [
    "# Node class 와 add 함수 구현\n",
    "class Node:\n",
    "    def __init__(self, data, next=None):\n",
    "        self.data = data\n",
    "        self.next = next \n",
    "\n",
    "def add(data):\n",
    "    node = head\n",
    "    while node.next:\n",
    "        node = node.next\n",
    "    node.next = Node(data)"
   ]
  },
  {
   "cell_type": "code",
   "execution_count": 10,
   "id": "fac4285f",
   "metadata": {
    "ExecuteTime": {
     "end_time": "2021-10-15T10:36:00.999061Z",
     "start_time": "2021-10-15T10:36:00.987051Z"
    }
   },
   "outputs": [],
   "source": [
    "# Linked List 만들어주기\n",
    "node1 = Node(2)    # 첫번째 node 생성\n",
    "head = node1       # haed 지정 \n",
    "\n",
    "for i in range(3,100,7):    # 데이터 넣어주기 \n",
    "    add(i)"
   ]
  },
  {
   "cell_type": "code",
   "execution_count": 11,
   "id": "1206bbde",
   "metadata": {
    "ExecuteTime": {
     "end_time": "2021-10-15T10:36:03.085971Z",
     "start_time": "2021-10-15T10:36:03.080957Z"
    }
   },
   "outputs": [
    {
     "name": "stdout",
     "output_type": "stream",
     "text": [
      "2\n"
     ]
    }
   ],
   "source": [
    "# 링크드 리스트 확인하기 \n",
    "node = head\n",
    "while node.next:\n",
    "    print(node.data)\n",
    "    node = node.next\n",
    "print(node.data)\n"
   ]
  },
  {
   "cell_type": "code",
   "execution_count": null,
   "id": "eaf6c843",
   "metadata": {},
   "outputs": [],
   "source": []
  },
  {
   "cell_type": "code",
   "execution_count": null,
   "id": "24bead7a",
   "metadata": {},
   "outputs": [],
   "source": []
  },
  {
   "cell_type": "code",
   "execution_count": null,
   "id": "8738f2a8",
   "metadata": {},
   "outputs": [],
   "source": []
  }
 ],
 "metadata": {
  "hide_input": false,
  "kernelspec": {
   "display_name": "Python 3",
   "language": "python",
   "name": "python3"
  },
  "language_info": {
   "codemirror_mode": {
    "name": "ipython",
    "version": 3
   },
   "file_extension": ".py",
   "mimetype": "text/x-python",
   "name": "python",
   "nbconvert_exporter": "python",
   "pygments_lexer": "ipython3",
   "version": "3.8.5"
  },
  "toc": {
   "base_numbering": 1,
   "nav_menu": {},
   "number_sections": true,
   "sideBar": true,
   "skip_h1_title": false,
   "title_cell": "Table of Contents",
   "title_sidebar": "Contents",
   "toc_cell": false,
   "toc_position": {},
   "toc_section_display": true,
   "toc_window_display": false
  },
  "varInspector": {
   "cols": {
    "lenName": 16,
    "lenType": 16,
    "lenVar": 40
   },
   "kernels_config": {
    "python": {
     "delete_cmd_postfix": "",
     "delete_cmd_prefix": "del ",
     "library": "var_list.py",
     "varRefreshCmd": "print(var_dic_list())"
    },
    "r": {
     "delete_cmd_postfix": ") ",
     "delete_cmd_prefix": "rm(",
     "library": "var_list.r",
     "varRefreshCmd": "cat(var_dic_list()) "
    }
   },
   "types_to_exclude": [
    "module",
    "function",
    "builtin_function_or_method",
    "instance",
    "_Feature"
   ],
   "window_display": false
  }
 },
 "nbformat": 4,
 "nbformat_minor": 5
}
