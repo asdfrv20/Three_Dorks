{
 "cells": [
  {
   "cell_type": "markdown",
   "id": "619888bd",
   "metadata": {},
   "source": [
    "# Linked List 복습"
   ]
  },
  {
   "cell_type": "markdown",
   "id": "68e90d25",
   "metadata": {},
   "source": [
    "## 1.node 와 add 만들기(class 이용 X) - 2021/10/15"
   ]
  },
  {
   "cell_type": "code",
   "execution_count": 15,
   "id": "3f610585",
   "metadata": {
    "ExecuteTime": {
     "end_time": "2021-10-15T10:37:18.764231Z",
     "start_time": "2021-10-15T10:37:18.746886Z"
    }
   },
   "outputs": [],
   "source": [
    "# Node class 와 add 함수 구현\n",
    "class Node:\n",
    "    def __init__(self, data, next=None):\n",
    "        self.data = data\n",
    "        self.next = next \n",
    "\n",
    "def add(data):\n",
    "    node = head\n",
    "    while node.next:\n",
    "        node = node.next\n",
    "    node.next = Node(data)    # 내가 실수한 부분 (node가 아닌 node.next에 새로운 Node(data)를 넣어주어야 한다. )"
   ]
  },
  {
   "cell_type": "code",
   "execution_count": 16,
   "id": "042cbaa6",
   "metadata": {
    "ExecuteTime": {
     "end_time": "2021-10-15T10:37:19.205632Z",
     "start_time": "2021-10-15T10:37:19.191248Z"
    }
   },
   "outputs": [],
   "source": [
    "# Linked List 만들어주기\n",
    "node1 = Node(2)    # 첫번째 node 생성\n",
    "head = node1       # haed 지정 \n",
    "\n",
    "for i in range(3,100,7):    # 데이터 넣어주기 \n",
    "    add(i)"
   ]
  },
  {
   "cell_type": "code",
   "execution_count": 17,
   "id": "4b444505",
   "metadata": {
    "ExecuteTime": {
     "end_time": "2021-10-15T10:37:19.524142Z",
     "start_time": "2021-10-15T10:37:19.505133Z"
    }
   },
   "outputs": [
    {
     "name": "stdout",
     "output_type": "stream",
     "text": [
      "2\n",
      "3\n",
      "10\n",
      "17\n",
      "24\n",
      "31\n",
      "38\n",
      "45\n",
      "52\n",
      "59\n",
      "66\n",
      "73\n",
      "80\n",
      "87\n",
      "94\n"
     ]
    }
   ],
   "source": [
    "# 링크드 리스트 확인하기 \n",
    "node = head\n",
    "while node.next:\n",
    "    print(node.data)\n",
    "    node = node.next\n",
    "print(node.data)\n"
   ]
  },
  {
   "cell_type": "markdown",
   "id": "3c71df49",
   "metadata": {},
   "source": [
    "## Linked list 자료 추가(삽입) - 2021/10/18"
   ]
  },
  {
   "cell_type": "markdown",
   "id": "05fc027e",
   "metadata": {},
   "source": [
    "링크드 리스트의 단점인 \"부가적인 작업\"에 대한 내용"
   ]
  },
  {
   "cell_type": "code",
   "execution_count": 3,
   "id": "c82aa27e",
   "metadata": {
    "ExecuteTime": {
     "end_time": "2021-10-17T16:43:40.682710Z",
     "start_time": "2021-10-17T16:43:40.669062Z"
    }
   },
   "outputs": [
    {
     "name": "stdout",
     "output_type": "stream",
     "text": [
      "0\n",
      "1\n",
      "2\n",
      "3\n",
      "4\n",
      "5\n",
      "6\n",
      "7\n",
      "8\n",
      "9\n",
      "create node2\n"
     ]
    },
    {
     "data": {
      "text/plain": [
       "1.5"
      ]
     },
     "execution_count": 3,
     "metadata": {},
     "output_type": "execute_result"
    }
   ],
   "source": [
    "# step0) linked list 및 추가할 node3 만들기 \n",
    "class Node:\n",
    "    def __init__(self, data, next=None):\n",
    "        self.data = data\n",
    "        self.next = next\n",
    "        \n",
    "def add(data):\n",
    "    node = head \n",
    "    while node.next:\n",
    "        node = node.next\n",
    "    node.next = Node(data)\n",
    "    \n",
    "node1 = Node(0)\n",
    "head = node1\n",
    "for data in range(1, 10):\n",
    "    add(data)\n",
    "\n",
    "node = head\n",
    "while node.next:\n",
    "    print(node.data)\n",
    "    node = node.next\n",
    "print(node.data)\n",
    "    \n",
    "    \n",
    "print(\"create node2\")\n",
    "node2 = Node(1.5)\n",
    "node2.data"
   ]
  },
  {
   "cell_type": "code",
   "execution_count": 5,
   "id": "3f22cf99",
   "metadata": {
    "ExecuteTime": {
     "end_time": "2021-10-17T16:48:08.716576Z",
     "start_time": "2021-10-17T16:48:08.711461Z"
    }
   },
   "outputs": [],
   "source": [
    "# step1: 중간에 node를 추가하는 기능 구현 \n",
    "node = head\n",
    "search = True\n",
    "while search:\n",
    "    if node.data == 1:\n",
    "        search = False\n",
    "    else:\n",
    "        node = node.next\n",
    "\n",
    "temp_pointer = node.next\n",
    "node.next = node2\n",
    "node2.next = temp_pointer"
   ]
  },
  {
   "cell_type": "code",
   "execution_count": 6,
   "id": "7ad34801",
   "metadata": {
    "ExecuteTime": {
     "end_time": "2021-10-17T16:48:58.145839Z",
     "start_time": "2021-10-17T16:48:58.136752Z"
    }
   },
   "outputs": [
    {
     "name": "stdout",
     "output_type": "stream",
     "text": [
      "0\n",
      "1\n",
      "1.5\n",
      "2\n",
      "3\n",
      "4\n",
      "5\n",
      "6\n",
      "7\n",
      "8\n",
      "9\n"
     ]
    }
   ],
   "source": [
    "# step3: linked list 출력\n",
    "node = head \n",
    "while node.next:\n",
    "    print(node.data)\n",
    "    node = node.next\n",
    "print(node.data)"
   ]
  },
  {
   "cell_type": "markdown",
   "id": "babe1bf1",
   "metadata": {},
   "source": [
    "## Linked list Class로 구성하기(add, desc 구현) - 2021/10/18"
   ]
  },
  {
   "cell_type": "code",
   "execution_count": 10,
   "id": "9cda0f21",
   "metadata": {
    "ExecuteTime": {
     "end_time": "2021-10-17T16:57:06.574181Z",
     "start_time": "2021-10-17T16:57:06.558182Z"
    }
   },
   "outputs": [],
   "source": [
    "# 구현할 내용 \n",
    "\"\"\"\n",
    "1. class Node: node 생성\n",
    "2. class NodeMgnt: node 관리 \n",
    "     - def add(self, data): 링스크 리스트의 끝에 노드 추가(방어코드 & 데이터 추가 기능)\n",
    "     - def desc(self): 링크드 리스트의 전체를 출력 \n",
    "\"\"\"\n",
    "\n",
    "class Node:\n",
    "    def __init__(self, data, next=None):\n",
    "        self.data = data\n",
    "        self.next = next\n",
    "        \n",
    "class NodeMgmt:\n",
    "    def __init__(self, data):\n",
    "        self.head = Node(data)\n",
    "    \n",
    "    def add(self, data):\n",
    "        if self.head == \"\":\n",
    "            self.head = Node(data)\n",
    "        else:\n",
    "            node = self.head\n",
    "            while node.next:\n",
    "                node = node.next\n",
    "            node.next = Node(data)\n",
    "        \n",
    "    def desc(self):\n",
    "        node = self.head\n",
    "        while node.next:\n",
    "            print(node.data)\n",
    "            node = node.next\n",
    "        print(node.data)"
   ]
  },
  {
   "cell_type": "code",
   "execution_count": 12,
   "id": "29750b0a",
   "metadata": {
    "ExecuteTime": {
     "end_time": "2021-10-17T16:58:32.319166Z",
     "start_time": "2021-10-17T16:58:32.303299Z"
    }
   },
   "outputs": [
    {
     "name": "stdout",
     "output_type": "stream",
     "text": [
      "0\n"
     ]
    }
   ],
   "source": [
    "# linked list 생성 \n",
    "linkedlist1 = NodeMgmt(0)\n",
    "linkedlist1.desc()"
   ]
  },
  {
   "cell_type": "code",
   "execution_count": 14,
   "id": "e575b326",
   "metadata": {
    "ExecuteTime": {
     "end_time": "2021-10-17T16:59:42.704835Z",
     "start_time": "2021-10-17T16:59:42.691767Z"
    }
   },
   "outputs": [
    {
     "name": "stdout",
     "output_type": "stream",
     "text": [
      "0\n",
      "2\n",
      "9\n",
      "16\n",
      "23\n",
      "30\n",
      "37\n",
      "44\n",
      "51\n",
      "58\n",
      "65\n"
     ]
    }
   ],
   "source": [
    "# add 기능 확인\n",
    "for data in range(2,70,7):\n",
    "    linkedlist1.add(data)\n",
    "linkedlist1.desc()"
   ]
  },
  {
   "cell_type": "markdown",
   "id": "ee0bbed9",
   "metadata": {},
   "source": [
    "## Linked list Class 구현: add, desc, \"delete\"기능 구현 - 2021/10/19"
   ]
  },
  {
   "cell_type": "code",
   "execution_count": 22,
   "id": "3fff46bf",
   "metadata": {
    "ExecuteTime": {
     "end_time": "2021-10-18T16:38:04.488841Z",
     "start_time": "2021-10-18T16:38:04.475869Z"
    }
   },
   "outputs": [],
   "source": [
    "# class 저의\n",
    "class Node:\n",
    "    def __init__(self, data, next=None):\n",
    "        self.data = data\n",
    "        self.next = next\n",
    "\n",
    "class NodeMgmt:\n",
    "    def __init__(self, data):\n",
    "        self.head = Node(data)\n",
    "    \n",
    "    def add(self, data):\n",
    "        if self.head == \"\":\n",
    "            self.head = Node(data)\n",
    "        else:\n",
    "            node = self.head\n",
    "            while node.next:\n",
    "                node = node.next\n",
    "            node.next = Node(data)\n",
    "    \n",
    "    def desc(self):\n",
    "        node = self.head\n",
    "        while node.next:\n",
    "            print(node.data)\n",
    "            node = node.next\n",
    "        print(node.data)\n",
    "        \n",
    "    def delete(self, data):\n",
    "        if self.head == \"\":\n",
    "            print(\"해당 값을 가진 노드가 없습니다.\")\n",
    "            return\n",
    "            \n",
    "        if self.head.data == data:\n",
    "            temp = self.head\n",
    "            self.head = self.head.next\n",
    "            del temp\n",
    "        else:\n",
    "            node = self.head\n",
    "            while node.next:\n",
    "                if node.next.data == data:\n",
    "                    temp = node.next\n",
    "                    node.next = node.next.next\n",
    "                    del temp\n",
    "                    return\n",
    "                else:\n",
    "                    node = node.next"
   ]
  },
  {
   "cell_type": "code",
   "execution_count": 23,
   "id": "a50c382b",
   "metadata": {
    "ExecuteTime": {
     "end_time": "2021-10-18T16:38:04.912774Z",
     "start_time": "2021-10-18T16:38:04.900805Z"
    }
   },
   "outputs": [
    {
     "name": "stdout",
     "output_type": "stream",
     "text": [
      "0\n",
      "<__main__.Node object at 0x00000142903FEA90>\n",
      "삭제\n",
      "None\n"
     ]
    }
   ],
   "source": [
    "# Node 생성 후 head를 삭제해보기 \n",
    "linkedlist1 = NodeMgmt(0)\n",
    "linkedlist1.desc()\n",
    "print(linkedlist1.head)\n",
    "\n",
    "print(\"삭제\")\n",
    "linkedlist1.delete(0)\n",
    "print(linkedlist1.head)\n"
   ]
  },
  {
   "cell_type": "code",
   "execution_count": 24,
   "id": "be8428e0",
   "metadata": {
    "ExecuteTime": {
     "end_time": "2021-10-18T16:38:05.399426Z",
     "start_time": "2021-10-18T16:38:05.385495Z"
    }
   },
   "outputs": [
    {
     "name": "stdout",
     "output_type": "stream",
     "text": [
      "0\n",
      "1\n",
      "4\n",
      "7\n",
      "10\n",
      "13\n",
      "16\n",
      "19\n"
     ]
    }
   ],
   "source": [
    "# Node 추가하기 \n",
    "linkedlist1 = NodeMgmt(0)\n",
    "for data in range(1,20,3):\n",
    "    linkedlist1.add(data)\n",
    "linkedlist1.desc()"
   ]
  },
  {
   "cell_type": "code",
   "execution_count": 25,
   "id": "04a1065b",
   "metadata": {
    "ExecuteTime": {
     "end_time": "2021-10-18T16:38:06.168285Z",
     "start_time": "2021-10-18T16:38:06.158319Z"
    }
   },
   "outputs": [
    {
     "name": "stdout",
     "output_type": "stream",
     "text": [
      "1\n",
      "4\n",
      "7\n",
      "10\n",
      "13\n",
      "16\n",
      "19\n"
     ]
    }
   ],
   "source": [
    "# head 삭제해보기 \n",
    "linkedlist1.delete(0)\n",
    "linkedlist1.desc()"
   ]
  },
  {
   "cell_type": "code",
   "execution_count": 26,
   "id": "3caaa8a9",
   "metadata": {
    "ExecuteTime": {
     "end_time": "2021-10-18T16:38:07.386965Z",
     "start_time": "2021-10-18T16:38:07.370011Z"
    }
   },
   "outputs": [
    {
     "name": "stdout",
     "output_type": "stream",
     "text": [
      "1\n",
      "4\n",
      "7\n",
      "10\n",
      "16\n",
      "19\n"
     ]
    }
   ],
   "source": [
    "# 중간 삭제해보기 \n",
    "linkedlist1.delete(13)\n",
    "linkedlist1.desc()"
   ]
  },
  {
   "cell_type": "code",
   "execution_count": 27,
   "id": "b083c9e1",
   "metadata": {
    "ExecuteTime": {
     "end_time": "2021-10-18T16:38:31.923539Z",
     "start_time": "2021-10-18T16:38:31.905548Z"
    }
   },
   "outputs": [
    {
     "name": "stdout",
     "output_type": "stream",
     "text": [
      "1\n",
      "4\n",
      "7\n",
      "10\n",
      "16\n"
     ]
    }
   ],
   "source": [
    "# 맨 끝 삭제해보기 \n",
    "linkedlist1.delete(19)\n",
    "linkedlist1.desc()"
   ]
  },
  {
   "cell_type": "markdown",
   "id": "402a8d39",
   "metadata": {
    "ExecuteTime": {
     "end_time": "2021-10-22T13:28:43.075706Z",
     "start_time": "2021-10-22T13:28:43.058441Z"
    }
   },
   "source": [
    "<div class=\"alert alert-block alert-warning\">\n",
    "<strong><font color=\"blue\" size=\"3em\">연습1: 위 코드에서 노드 데이터가 2인 노드 삭제해보기</font></strong>\n",
    "</div>"
   ]
  },
  {
   "cell_type": "code",
   "execution_count": 16,
   "id": "d8171a2c",
   "metadata": {
    "ExecuteTime": {
     "end_time": "2021-10-22T13:41:37.883442Z",
     "start_time": "2021-10-22T13:41:37.867324Z"
    }
   },
   "outputs": [],
   "source": [
    "class Node:\n",
    "    def __init__(self, data, next=None):\n",
    "        self.data = data\n",
    "        self.next = next\n",
    "        \n",
    "class NodeMgmt:\n",
    "    def __init__(self, data):\n",
    "        self.head = Node(data)\n",
    "    \n",
    "    def add(self, data):\n",
    "        if self.head == \"\":\n",
    "            self.head = Node(data)\n",
    "        \n",
    "        node = self.head\n",
    "        while node.next:\n",
    "            node = node.next\n",
    "        node.next = Node(data)\n",
    "        \n",
    "    def desc(self):\n",
    "        node = self.head\n",
    "        while node.next:\n",
    "            print(node.data)\n",
    "            node = node.next\n",
    "        print(node.data)\n",
    "        \n",
    "    def delete(self, data):\n",
    "        if self.head.next == '':\n",
    "            print(\"찾으시는 Node가 존재하지 않습니다.\")\n",
    "            return\n",
    "        \n",
    "        if self.head.data == data:\n",
    "            temp = head\n",
    "            head= head.next\n",
    "            del temp\n",
    "        else:\n",
    "            node = self.head\n",
    "            while node.next:\n",
    "                if node.next.data == data:\n",
    "                    temp = node.next\n",
    "                    node.next = node.next.next\n",
    "                    del temp\n",
    "                else:\n",
    "                    node = node.next"
   ]
  },
  {
   "cell_type": "code",
   "execution_count": 17,
   "id": "87e8ec0c",
   "metadata": {
    "ExecuteTime": {
     "end_time": "2021-10-22T13:41:38.202331Z",
     "start_time": "2021-10-22T13:41:38.187479Z"
    }
   },
   "outputs": [
    {
     "name": "stdout",
     "output_type": "stream",
     "text": [
      "0\n",
      "1\n",
      "2\n",
      "3\n",
      "4\n",
      "5\n",
      "6\n",
      "7\n",
      "8\n",
      "9\n"
     ]
    }
   ],
   "source": [
    "linkedlist1 = NodeMgmt(0)\n",
    "for data in range(1,10):\n",
    "    linkedlist1.add(data)\n",
    "linkedlist1.desc()"
   ]
  },
  {
   "cell_type": "code",
   "execution_count": 18,
   "id": "b6d44f09",
   "metadata": {
    "ExecuteTime": {
     "end_time": "2021-10-22T13:41:38.810695Z",
     "start_time": "2021-10-22T13:41:38.800648Z"
    }
   },
   "outputs": [
    {
     "name": "stdout",
     "output_type": "stream",
     "text": [
      "0\n",
      "1\n",
      "3\n",
      "4\n",
      "5\n",
      "6\n",
      "7\n",
      "8\n",
      "9\n"
     ]
    }
   ],
   "source": [
    "linkedlist1.delete(2)\n",
    "linkedlist1.desc()"
   ]
  },
  {
   "cell_type": "markdown",
   "id": "4babdcf7",
   "metadata": {
    "ExecuteTime": {
     "end_time": "2021-10-22T13:28:57.124670Z",
     "start_time": "2021-10-22T13:28:57.110476Z"
    }
   },
   "source": [
    "<div class=\"alert alert-block alert-warning\">\n",
    "<strong><font color=\"blue\" size=\"3em\">연습2: 위 코드에서 노드 데이터가 특정 숫자인 노드를 찾는 함수를 만들고, 테스트해보기</font></strong><br>\n",
    "테스트: 임의로 1 ~ 9까지 데이터를 링크드 리스트에 넣어보고, 데이터 값이 4인 노드의 데이터 값 출력해보기\n",
    "</div>"
   ]
  },
  {
   "cell_type": "code",
   "execution_count": 21,
   "id": "fdc40d5f",
   "metadata": {
    "ExecuteTime": {
     "end_time": "2021-10-22T13:47:23.786520Z",
     "start_time": "2021-10-22T13:47:23.773484Z"
    }
   },
   "outputs": [],
   "source": [
    "class Node:\n",
    "    def __init__(self, data, next=None):\n",
    "        self.data = data\n",
    "        self.next = next\n",
    "        \n",
    "class NodeMgmt:\n",
    "    def __init__(self, data):\n",
    "        self.head = Node(data)\n",
    "    \n",
    "    def add(self, data):\n",
    "        if self.head == \"\":\n",
    "            self.head = Node(data)\n",
    "        \n",
    "        node = self.head\n",
    "        while node.next:\n",
    "            node = node.next\n",
    "        node.next = Node(data)\n",
    "        \n",
    "    def desc(self):\n",
    "        node = self.head\n",
    "        while node.next:\n",
    "            print(node.data)\n",
    "            node = node.next\n",
    "        print(node.data)\n",
    "        \n",
    "    def delete(self, data):\n",
    "        if self.head.next == '':\n",
    "            print(\"찾으시는 Node가 존재하지 않습니다.\")\n",
    "            return\n",
    "        \n",
    "        if self.head.data == data:\n",
    "            temp = head\n",
    "            head= head.next\n",
    "            del temp\n",
    "        else:\n",
    "            node = self.head\n",
    "            while node.next:\n",
    "                if node.next.data == data:\n",
    "                    temp = node.next\n",
    "                    node.next = node.next.next\n",
    "                    del temp\n",
    "                else:\n",
    "                    node = node.next\n",
    "                    \n",
    "    def search(self, data):\n",
    "        node = self.head\n",
    "        while node.next:\n",
    "            if node.data == data:\n",
    "                return node\n",
    "            else:\n",
    "                node = node.next\n",
    "        "
   ]
  },
  {
   "cell_type": "code",
   "execution_count": 22,
   "id": "fb6c08bb",
   "metadata": {
    "ExecuteTime": {
     "end_time": "2021-10-22T13:47:24.152552Z",
     "start_time": "2021-10-22T13:47:24.136550Z"
    }
   },
   "outputs": [
    {
     "name": "stdout",
     "output_type": "stream",
     "text": [
      "1\n",
      "2\n",
      "3\n",
      "4\n",
      "5\n",
      "6\n",
      "7\n",
      "8\n",
      "9\n"
     ]
    }
   ],
   "source": [
    "linkedlist2 = NodeMgmt(1)\n",
    "for data in range(2, 10):\n",
    "    linkedlist2.add(data)\n",
    "linkedlist2.desc()"
   ]
  },
  {
   "cell_type": "code",
   "execution_count": 23,
   "id": "f12722c9",
   "metadata": {
    "ExecuteTime": {
     "end_time": "2021-10-22T13:47:25.142577Z",
     "start_time": "2021-10-22T13:47:25.129416Z"
    }
   },
   "outputs": [
    {
     "name": "stdout",
     "output_type": "stream",
     "text": [
      "4\n"
     ]
    }
   ],
   "source": [
    "temp = linkedlist2.search(4)\n",
    "print(temp.data)"
   ]
  },
  {
   "cell_type": "markdown",
   "id": "3792aa17",
   "metadata": {
    "ExecuteTime": {
     "end_time": "2021-10-22T15:21:47.888829Z",
     "start_time": "2021-10-22T15:21:47.876791Z"
    }
   },
   "source": [
    "<div class=\"alert alert-block alert-warning\">\n",
    "<strong><font color=\"blue\" size=\"3em\">연습3: 위 코드에서 노드 데이터가 특정 숫자인 노드 앞에 데이터를 추가하는 함수를 만들고, 테스트해보기</font></strong><br>\n",
    "- 더블 링크드 리스트의 tail 에서부터 뒤로 이동하며, 특정 숫자인 노드를 찾는 방식으로 함수를 구현하기<br>\n",
    "- 테스트: 임의로 0 ~ 9까지 데이터를 링크드 리스트에 넣어보고, 데이터 값이 2인 노드 앞에 1.5 데이터 값을 가진 노드를 추가해보기\n",
    "</div>"
   ]
  },
  {
   "cell_type": "code",
   "execution_count": 29,
   "id": "cbbb0818",
   "metadata": {
    "ExecuteTime": {
     "end_time": "2021-10-22T15:50:39.094209Z",
     "start_time": "2021-10-22T15:50:39.072160Z"
    }
   },
   "outputs": [],
   "source": [
    "class Node:\n",
    "    def __init__(self, data, next=None, prev=None):\n",
    "        self.data = data\n",
    "        self.next = next\n",
    "        self.prev = prev\n",
    "        \n",
    "class NodeMgmt:\n",
    "    def __init__(self, data):\n",
    "        self.head = Node(data)\n",
    "        self.tail = self.head       # 추가 부분1\n",
    "    \n",
    "    def insert(self, data):\n",
    "        if self.head == None:\n",
    "            self.head = Node(data)\n",
    "            self.tail = self.head   # 추가 부분2\n",
    "        node = self.head\n",
    "        while node.next:\n",
    "            node = node.next\n",
    "        new = Node(data)\n",
    "        node.next = new\n",
    "        new.prev = node\n",
    "        self.tail = new\n",
    "        \n",
    "    def desc(self):\n",
    "        node = self.head\n",
    "        while node.next:\n",
    "            print(node.data)\n",
    "            node = node.next\n",
    "        print(node.data)\n",
    "        \n",
    "    def search_from_head(self, data):\n",
    "        if self.head == None:\n",
    "            return False\n",
    "        \n",
    "        node = self.head\n",
    "        while node:\n",
    "            if node.data == data:\n",
    "                return node\n",
    "            else:\n",
    "                node = node.next\n",
    "        return False\n",
    "        \n",
    "    def search_from_tail(self, data):\n",
    "        if self.tail == None:\n",
    "            return False\n",
    "        \n",
    "        node = self.tail\n",
    "        while node:\n",
    "            if node.data == data:\n",
    "                return node\n",
    "            else:\n",
    "                node = node.prev\n",
    "        return False\n",
    "        \n",
    "        \n",
    "    def insert_before(self, before_data, data):\n",
    "        if self.head == None:\n",
    "            self.head = Node(data)\n",
    "            return True\n",
    "        else:\n",
    "            node = self.tail\n",
    "            while node.data != before_data:\n",
    "                node = node.prev\n",
    "                if node == None:\n",
    "                    return False\n",
    "            new = Node(data)\n",
    "            before_new = node.prev\n",
    "            before_new.next = new\n",
    "            new.prev = before_new\n",
    "            new.next = node\n",
    "            node.prev = new\n",
    "            return True       \n",
    "        "
   ]
  },
  {
   "cell_type": "code",
   "execution_count": 30,
   "id": "74b564d0",
   "metadata": {
    "ExecuteTime": {
     "end_time": "2021-10-22T15:50:40.009826Z",
     "start_time": "2021-10-22T15:50:39.991755Z"
    }
   },
   "outputs": [
    {
     "name": "stdout",
     "output_type": "stream",
     "text": [
      "1\n",
      "2\n",
      "3\n",
      "4\n",
      "5\n",
      "6\n",
      "7\n",
      "8\n",
      "9\n"
     ]
    }
   ],
   "source": [
    "double_linkedlist = NodeMgmt(1)\n",
    "for data in range(2,10):\n",
    "    double_linkedlist.insert(data)\n",
    "double_linkedlist.desc()"
   ]
  },
  {
   "cell_type": "code",
   "execution_count": 31,
   "id": "f0eec613",
   "metadata": {
    "ExecuteTime": {
     "end_time": "2021-10-22T15:50:40.664868Z",
     "start_time": "2021-10-22T15:50:40.652787Z"
    }
   },
   "outputs": [
    {
     "name": "stdout",
     "output_type": "stream",
     "text": [
      "3\n",
      "8\n"
     ]
    }
   ],
   "source": [
    "node1 = double_linkedlist.search_from_head(3)\n",
    "if node1:\n",
    "    print(node1.data)\n",
    "else:\n",
    "    print(\"No data\")\n",
    "\n",
    "node2 = double_linkedlist.search_from_tail(8)\n",
    "if node2:\n",
    "    print(node2.data)\n",
    "else:\n",
    "    print(\"No data\")\n",
    "    "
   ]
  },
  {
   "cell_type": "code",
   "execution_count": 32,
   "id": "b705b56b",
   "metadata": {
    "ExecuteTime": {
     "end_time": "2021-10-22T15:51:21.127990Z",
     "start_time": "2021-10-22T15:51:21.114943Z"
    }
   },
   "outputs": [
    {
     "name": "stdout",
     "output_type": "stream",
     "text": [
      "1\n",
      "2\n",
      "3\n",
      "4\n",
      "235\n",
      "5\n",
      "6\n",
      "7\n",
      "8\n",
      "9\n"
     ]
    }
   ],
   "source": [
    "double_linkedlist.insert_before(5, 235)\n",
    "double_linkedlist.desc()"
   ]
  },
  {
   "cell_type": "code",
   "execution_count": null,
   "id": "8726b651",
   "metadata": {},
   "outputs": [],
   "source": []
  },
  {
   "cell_type": "code",
   "execution_count": null,
   "id": "a2a5c74b",
   "metadata": {},
   "outputs": [],
   "source": []
  },
  {
   "cell_type": "code",
   "execution_count": null,
   "id": "03a8ee57",
   "metadata": {},
   "outputs": [],
   "source": []
  }
 ],
 "metadata": {
  "hide_input": false,
  "kernelspec": {
   "display_name": "Python 3",
   "language": "python",
   "name": "python3"
  },
  "language_info": {
   "codemirror_mode": {
    "name": "ipython",
    "version": 3
   },
   "file_extension": ".py",
   "mimetype": "text/x-python",
   "name": "python",
   "nbconvert_exporter": "python",
   "pygments_lexer": "ipython3",
   "version": "3.8.5"
  },
  "toc": {
   "base_numbering": 1,
   "nav_menu": {},
   "number_sections": true,
   "sideBar": true,
   "skip_h1_title": false,
   "title_cell": "Table of Contents",
   "title_sidebar": "Contents",
   "toc_cell": false,
   "toc_position": {},
   "toc_section_display": true,
   "toc_window_display": false
  },
  "varInspector": {
   "cols": {
    "lenName": 16,
    "lenType": 16,
    "lenVar": 40
   },
   "kernels_config": {
    "python": {
     "delete_cmd_postfix": "",
     "delete_cmd_prefix": "del ",
     "library": "var_list.py",
     "varRefreshCmd": "print(var_dic_list())"
    },
    "r": {
     "delete_cmd_postfix": ") ",
     "delete_cmd_prefix": "rm(",
     "library": "var_list.r",
     "varRefreshCmd": "cat(var_dic_list()) "
    }
   },
   "types_to_exclude": [
    "module",
    "function",
    "builtin_function_or_method",
    "instance",
    "_Feature"
   ],
   "window_display": false
  }
 },
 "nbformat": 4,
 "nbformat_minor": 5
}
