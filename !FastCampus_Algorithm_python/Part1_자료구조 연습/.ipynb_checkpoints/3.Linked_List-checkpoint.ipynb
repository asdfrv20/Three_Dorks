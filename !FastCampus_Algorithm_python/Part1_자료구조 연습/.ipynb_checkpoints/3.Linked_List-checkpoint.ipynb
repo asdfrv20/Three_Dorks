{
 "cells": [
  {
   "cell_type": "markdown",
   "id": "619888bd",
   "metadata": {},
   "source": [
    "# Linked List 복습"
   ]
  },
  {
   "cell_type": "markdown",
   "id": "68e90d25",
   "metadata": {},
   "source": [
    "## 1.node 와 add 만들기(class 이용 X) - 2021/10/15"
   ]
  },
  {
   "cell_type": "code",
   "execution_count": 15,
   "id": "3f610585",
   "metadata": {
    "ExecuteTime": {
     "end_time": "2021-10-15T10:37:18.764231Z",
     "start_time": "2021-10-15T10:37:18.746886Z"
    }
   },
   "outputs": [],
   "source": [
    "# Node class 와 add 함수 구현\n",
    "class Node:\n",
    "    def __init__(self, data, next=None):\n",
    "        self.data = data\n",
    "        self.next = next \n",
    "\n",
    "def add(data):\n",
    "    node = head\n",
    "    while node.next:\n",
    "        node = node.next\n",
    "    node.next = Node(data)    # 내가 실수한 부분 (node가 아닌 node.next에 새로운 Node(data)를 넣어주어야 한다. )"
   ]
  },
  {
   "cell_type": "code",
   "execution_count": 16,
   "id": "042cbaa6",
   "metadata": {
    "ExecuteTime": {
     "end_time": "2021-10-15T10:37:19.205632Z",
     "start_time": "2021-10-15T10:37:19.191248Z"
    }
   },
   "outputs": [],
   "source": [
    "# Linked List 만들어주기\n",
    "node1 = Node(2)    # 첫번째 node 생성\n",
    "head = node1       # haed 지정 \n",
    "\n",
    "for i in range(3,100,7):    # 데이터 넣어주기 \n",
    "    add(i)"
   ]
  },
  {
   "cell_type": "code",
   "execution_count": 17,
   "id": "4b444505",
   "metadata": {
    "ExecuteTime": {
     "end_time": "2021-10-15T10:37:19.524142Z",
     "start_time": "2021-10-15T10:37:19.505133Z"
    }
   },
   "outputs": [
    {
     "name": "stdout",
     "output_type": "stream",
     "text": [
      "2\n",
      "3\n",
      "10\n",
      "17\n",
      "24\n",
      "31\n",
      "38\n",
      "45\n",
      "52\n",
      "59\n",
      "66\n",
      "73\n",
      "80\n",
      "87\n",
      "94\n"
     ]
    }
   ],
   "source": [
    "# 링크드 리스트 확인하기 \n",
    "node = head\n",
    "while node.next:\n",
    "    print(node.data)\n",
    "    node = node.next\n",
    "print(node.data)\n"
   ]
  },
  {
   "cell_type": "markdown",
   "id": "d5c3808e",
   "metadata": {},
   "source": [
    "## Linked list 자료 추가(삽입) - 2021/10/18"
   ]
  },
  {
   "cell_type": "markdown",
   "id": "eacb5af1",
   "metadata": {},
   "source": [
    "링크드 리스트의 단점인 \"부가적인 작업\"에 대한 내용"
   ]
  },
  {
   "cell_type": "code",
   "execution_count": 3,
   "id": "eac3caa5",
   "metadata": {
    "ExecuteTime": {
     "end_time": "2021-10-17T16:43:40.682710Z",
     "start_time": "2021-10-17T16:43:40.669062Z"
    }
   },
   "outputs": [
    {
     "name": "stdout",
     "output_type": "stream",
     "text": [
      "0\n",
      "1\n",
      "2\n",
      "3\n",
      "4\n",
      "5\n",
      "6\n",
      "7\n",
      "8\n",
      "9\n",
      "create node2\n"
     ]
    },
    {
     "data": {
      "text/plain": [
       "1.5"
      ]
     },
     "execution_count": 3,
     "metadata": {},
     "output_type": "execute_result"
    }
   ],
   "source": [
    "# step0) linked list 및 추가할 node3 만들기 \n",
    "class Node:\n",
    "    def __init__(self, data, next=None):\n",
    "        self.data = data\n",
    "        self.next = next\n",
    "        \n",
    "def add(data):\n",
    "    node = head \n",
    "    while node.next:\n",
    "        node = node.next\n",
    "    node.next = Node(data)\n",
    "    \n",
    "node1 = Node(0)\n",
    "head = node1\n",
    "for data in range(1, 10):\n",
    "    add(data)\n",
    "\n",
    "node = head\n",
    "while node.next:\n",
    "    print(node.data)\n",
    "    node = node.next\n",
    "print(node.data)\n",
    "    \n",
    "    \n",
    "print(\"create node2\")\n",
    "node2 = Node(1.5)\n",
    "node2.data"
   ]
  },
  {
   "cell_type": "code",
   "execution_count": 5,
   "id": "4a5df36e",
   "metadata": {
    "ExecuteTime": {
     "end_time": "2021-10-17T16:48:08.716576Z",
     "start_time": "2021-10-17T16:48:08.711461Z"
    }
   },
   "outputs": [],
   "source": [
    "# step1: 중간에 node를 추가하는 기능 구현 \n",
    "node = head\n",
    "search = True\n",
    "while search:\n",
    "    if node.data == 1:\n",
    "        search = False\n",
    "    else:\n",
    "        node = node.next\n",
    "\n",
    "temp_pointer = node.next\n",
    "node.next = node2\n",
    "node2.next = temp_pointer"
   ]
  },
  {
   "cell_type": "code",
   "execution_count": 6,
   "id": "2ebaaa42",
   "metadata": {
    "ExecuteTime": {
     "end_time": "2021-10-17T16:48:58.145839Z",
     "start_time": "2021-10-17T16:48:58.136752Z"
    }
   },
   "outputs": [
    {
     "name": "stdout",
     "output_type": "stream",
     "text": [
      "0\n",
      "1\n",
      "1.5\n",
      "2\n",
      "3\n",
      "4\n",
      "5\n",
      "6\n",
      "7\n",
      "8\n",
      "9\n"
     ]
    }
   ],
   "source": [
    "# step3: linked list 출력\n",
    "node = head \n",
    "while node.next:\n",
    "    print(node.data)\n",
    "    node = node.next\n",
    "print(node.data)"
   ]
  },
  {
   "cell_type": "markdown",
   "id": "f787c608",
   "metadata": {},
   "source": [
    "## Linked list Class로 구성하기 - 2021/10/18"
   ]
  },
  {
   "cell_type": "code",
   "execution_count": 10,
   "id": "9cda0f21",
   "metadata": {
    "ExecuteTime": {
     "end_time": "2021-10-17T16:57:06.574181Z",
     "start_time": "2021-10-17T16:57:06.558182Z"
    }
   },
   "outputs": [],
   "source": [
    "# 구현할 내용 \n",
    "\"\"\"\n",
    "1. class Node: node 생성\n",
    "2. class NodeMgnt: node 관리 \n",
    "     - def add(self, data): 링스크 리스트의 끝에 노드 추가(방어코드 & 데이터 추가 기능)\n",
    "     - def desc(self): 링크드 리스트의 전체를 출력 \n",
    "\"\"\"\n",
    "\n",
    "class Node:\n",
    "    def __init__(self, data, next=None):\n",
    "        self.data = data\n",
    "        self.next = next\n",
    "        \n",
    "class NodeMgmt:\n",
    "    def __init__(self, data):\n",
    "        self.head = Node(data)\n",
    "    \n",
    "    def add(self, data):\n",
    "        if self.head == \"\":\n",
    "            self.head = Node(data)\n",
    "        else:\n",
    "            node = self.head\n",
    "            while node.next:\n",
    "                node = node.next\n",
    "            node.next = Node(data)\n",
    "        \n",
    "    def desc(self):\n",
    "        node = self.head\n",
    "        while node.next:\n",
    "            print(node.data)\n",
    "            node = node.next\n",
    "        print(node.data)"
   ]
  },
  {
   "cell_type": "code",
   "execution_count": 12,
   "id": "6e903a33",
   "metadata": {
    "ExecuteTime": {
     "end_time": "2021-10-17T16:58:32.319166Z",
     "start_time": "2021-10-17T16:58:32.303299Z"
    }
   },
   "outputs": [
    {
     "name": "stdout",
     "output_type": "stream",
     "text": [
      "0\n"
     ]
    }
   ],
   "source": [
    "# linked list 생성 \n",
    "linkedlist1 = NodeMgmt(0)\n",
    "linkedlist1.desc()"
   ]
  },
  {
   "cell_type": "code",
   "execution_count": null,
   "id": "550c7c4e",
   "metadata": {},
   "outputs": [],
   "source": [
    "# add 기능 확인\n",
    "for data in range(2,70,7):\n",
    "    linkedlist.add(data)\n",
    "linkedlist.desc()"
   ]
  }
 ],
 "metadata": {
  "hide_input": false,
  "kernelspec": {
   "display_name": "Python 3",
   "language": "python",
   "name": "python3"
  },
  "language_info": {
   "codemirror_mode": {
    "name": "ipython",
    "version": 3
   },
   "file_extension": ".py",
   "mimetype": "text/x-python",
   "name": "python",
   "nbconvert_exporter": "python",
   "pygments_lexer": "ipython3",
   "version": "3.8.5"
  },
  "toc": {
   "base_numbering": 1,
   "nav_menu": {},
   "number_sections": true,
   "sideBar": true,
   "skip_h1_title": false,
   "title_cell": "Table of Contents",
   "title_sidebar": "Contents",
   "toc_cell": false,
   "toc_position": {},
   "toc_section_display": true,
   "toc_window_display": false
  },
  "varInspector": {
   "cols": {
    "lenName": 16,
    "lenType": 16,
    "lenVar": 40
   },
   "kernels_config": {
    "python": {
     "delete_cmd_postfix": "",
     "delete_cmd_prefix": "del ",
     "library": "var_list.py",
     "varRefreshCmd": "print(var_dic_list())"
    },
    "r": {
     "delete_cmd_postfix": ") ",
     "delete_cmd_prefix": "rm(",
     "library": "var_list.r",
     "varRefreshCmd": "cat(var_dic_list()) "
    }
   },
   "types_to_exclude": [
    "module",
    "function",
    "builtin_function_or_method",
    "instance",
    "_Feature"
   ],
   "window_display": false
  }
 },
 "nbformat": 4,
 "nbformat_minor": 5
}
