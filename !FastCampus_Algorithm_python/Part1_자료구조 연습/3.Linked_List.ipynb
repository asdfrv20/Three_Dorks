{
 "cells": [
  {
   "cell_type": "markdown",
   "id": "619888bd",
   "metadata": {},
   "source": [
    "# Linked List 복습"
   ]
  },
  {
   "cell_type": "markdown",
   "id": "68e90d25",
   "metadata": {},
   "source": [
    "## 1.node 와 add 만들기"
   ]
  },
  {
   "cell_type": "code",
   "execution_count": 15,
   "id": "3f610585",
   "metadata": {
    "ExecuteTime": {
     "end_time": "2021-10-15T10:37:18.764231Z",
     "start_time": "2021-10-15T10:37:18.746886Z"
    }
   },
   "outputs": [],
   "source": [
    "# Node class 와 add 함수 구현\n",
    "class Node:\n",
    "    def __init__(self, data, next=None):\n",
    "        self.data = data\n",
    "        self.next = next \n",
    "\n",
    "def add(data):\n",
    "    node = head\n",
    "    while node.next:\n",
    "        node = node.next\n",
    "    node.next = Node(data)    # 내가 실수한 부분 (node가 아닌 node.next에 새로운 Node(data)를 넣어주어야 한다. )"
   ]
  },
  {
   "cell_type": "code",
   "execution_count": 16,
   "id": "042cbaa6",
   "metadata": {
    "ExecuteTime": {
     "end_time": "2021-10-15T10:37:19.205632Z",
     "start_time": "2021-10-15T10:37:19.191248Z"
    }
   },
   "outputs": [],
   "source": [
    "# Linked List 만들어주기\n",
    "node1 = Node(2)    # 첫번째 node 생성\n",
    "head = node1       # haed 지정 \n",
    "\n",
    "for i in range(3,100,7):    # 데이터 넣어주기 \n",
    "    add(i)"
   ]
  },
  {
   "cell_type": "code",
   "execution_count": 17,
   "id": "4b444505",
   "metadata": {
    "ExecuteTime": {
     "end_time": "2021-10-15T10:37:19.524142Z",
     "start_time": "2021-10-15T10:37:19.505133Z"
    }
   },
   "outputs": [
    {
     "name": "stdout",
     "output_type": "stream",
     "text": [
      "2\n",
      "3\n",
      "10\n",
      "17\n",
      "24\n",
      "31\n",
      "38\n",
      "45\n",
      "52\n",
      "59\n",
      "66\n",
      "73\n",
      "80\n",
      "87\n",
      "94\n"
     ]
    }
   ],
   "source": [
    "# 링크드 리스트 확인하기 \n",
    "node = head\n",
    "while node.next:\n",
    "    print(node.data)\n",
    "    node = node.next\n",
    "print(node.data)\n"
   ]
  },
  {
   "cell_type": "code",
   "execution_count": null,
   "id": "83d8aa15",
   "metadata": {},
   "outputs": [],
   "source": []
  },
  {
   "cell_type": "code",
   "execution_count": null,
   "id": "2879b73f",
   "metadata": {},
   "outputs": [],
   "source": []
  },
  {
   "cell_type": "code",
   "execution_count": null,
   "id": "9cda0f21",
   "metadata": {},
   "outputs": [],
   "source": []
  }
 ],
 "metadata": {
  "hide_input": false,
  "kernelspec": {
   "display_name": "Python 3",
   "language": "python",
   "name": "python3"
  },
  "language_info": {
   "codemirror_mode": {
    "name": "ipython",
    "version": 3
   },
   "file_extension": ".py",
   "mimetype": "text/x-python",
   "name": "python",
   "nbconvert_exporter": "python",
   "pygments_lexer": "ipython3",
   "version": "3.8.5"
  },
  "toc": {
   "base_numbering": 1,
   "nav_menu": {},
   "number_sections": true,
   "sideBar": true,
   "skip_h1_title": false,
   "title_cell": "Table of Contents",
   "title_sidebar": "Contents",
   "toc_cell": false,
   "toc_position": {},
   "toc_section_display": true,
   "toc_window_display": false
  },
  "varInspector": {
   "cols": {
    "lenName": 16,
    "lenType": 16,
    "lenVar": 40
   },
   "kernels_config": {
    "python": {
     "delete_cmd_postfix": "",
     "delete_cmd_prefix": "del ",
     "library": "var_list.py",
     "varRefreshCmd": "print(var_dic_list())"
    },
    "r": {
     "delete_cmd_postfix": ") ",
     "delete_cmd_prefix": "rm(",
     "library": "var_list.r",
     "varRefreshCmd": "cat(var_dic_list()) "
    }
   },
   "types_to_exclude": [
    "module",
    "function",
    "builtin_function_or_method",
    "instance",
    "_Feature"
   ],
   "window_display": false
  }
 },
 "nbformat": 4,
 "nbformat_minor": 5
}
